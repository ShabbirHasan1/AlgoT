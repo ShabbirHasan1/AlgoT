{
 "cells": [
  {
   "cell_type": "code",
   "execution_count": 2,
   "metadata": {},
   "outputs": [
    {
     "name": "stdout",
     "output_type": "stream",
     "text": [
      "Downloading data for ADANIPORTS.NS...\n"
     ]
    },
    {
     "name": "stderr",
     "output_type": "stream",
     "text": [
      "Failed to get ticker 'ADANIPORTS.NS' reason: ('Connection aborted.', ConnectionResetError(10054, 'An existing connection was forcibly closed by the remote host', None, 10054, None))\n",
      "[*********************100%%**********************]  1 of 1 completed\n",
      "\n",
      "1 Failed download:\n",
      "['ADANIPORTS.NS']: ConnectionError(ProtocolError('Connection aborted.', ConnectionResetError(10054, 'An existing connection was forcibly closed by the remote host', None, 10054, None)))\n",
      "Failed to get ticker 'ASIANPAINT.NS' reason: ('Connection aborted.', ConnectionResetError(10054, 'An existing connection was forcibly closed by the remote host', None, 10054, None))\n",
      "[*********************100%%**********************]  1 of 1 completed\n",
      "\n",
      "1 Failed download:\n",
      "['ASIANPAINT.NS']: ConnectionError(ProtocolError('Connection aborted.', ConnectionResetError(10054, 'An existing connection was forcibly closed by the remote host', None, 10054, None)))\n"
     ]
    },
    {
     "name": "stdout",
     "output_type": "stream",
     "text": [
      "An error occurred for ADANIPORTS.NS: Only valid with DatetimeIndex, TimedeltaIndex or PeriodIndex, but got an instance of 'Index'\n",
      "Downloading data for ASIANPAINT.NS...\n",
      "An error occurred for ASIANPAINT.NS: Only valid with DatetimeIndex, TimedeltaIndex or PeriodIndex, but got an instance of 'Index'\n",
      "Downloading data for AXISBANK.NS...\n"
     ]
    },
    {
     "name": "stderr",
     "output_type": "stream",
     "text": [
      "Failed to get ticker 'AXISBANK.NS' reason: ('Connection aborted.', ConnectionResetError(10054, 'An existing connection was forcibly closed by the remote host', None, 10054, None))\n",
      "[*********************100%%**********************]  1 of 1 completed\n",
      "\n",
      "1 Failed download:\n",
      "['AXISBANK.NS']: ConnectionError(ProtocolError('Connection aborted.', ConnectionResetError(10054, 'An existing connection was forcibly closed by the remote host', None, 10054, None)))\n",
      "Failed to get ticker 'BAJAJ-AUTO.NS' reason: ('Connection aborted.', ConnectionResetError(10054, 'An existing connection was forcibly closed by the remote host', None, 10054, None))\n",
      "[*********************100%%**********************]  1 of 1 completed\n",
      "\n",
      "1 Failed download:\n",
      "['BAJAJ-AUTO.NS']: ConnectionError(ProtocolError('Connection aborted.', ConnectionResetError(10054, 'An existing connection was forcibly closed by the remote host', None, 10054, None)))\n"
     ]
    },
    {
     "name": "stdout",
     "output_type": "stream",
     "text": [
      "An error occurred for AXISBANK.NS: Only valid with DatetimeIndex, TimedeltaIndex or PeriodIndex, but got an instance of 'Index'\n",
      "Downloading data for BAJAJ-AUTO.NS...\n",
      "An error occurred for BAJAJ-AUTO.NS: Only valid with DatetimeIndex, TimedeltaIndex or PeriodIndex, but got an instance of 'Index'\n",
      "Downloading data for BAJFINANCE.NS...\n"
     ]
    },
    {
     "name": "stderr",
     "output_type": "stream",
     "text": [
      "Failed to get ticker 'BAJFINANCE.NS' reason: ('Connection aborted.', ConnectionResetError(10054, 'An existing connection was forcibly closed by the remote host', None, 10054, None))\n",
      "[*********************100%%**********************]  1 of 1 completed\n",
      "\n",
      "1 Failed download:\n",
      "['BAJFINANCE.NS']: ConnectionError(ProtocolError('Connection aborted.', ConnectionResetError(10054, 'An existing connection was forcibly closed by the remote host', None, 10054, None)))\n",
      "Failed to get ticker 'BAJAJFINSV.NS' reason: ('Connection aborted.', ConnectionResetError(10054, 'An existing connection was forcibly closed by the remote host', None, 10054, None))\n",
      "[*********************100%%**********************]  1 of 1 completed\n",
      "\n",
      "1 Failed download:\n",
      "['BAJAJFINSV.NS']: ConnectionError(ProtocolError('Connection aborted.', ConnectionResetError(10054, 'An existing connection was forcibly closed by the remote host', None, 10054, None)))\n"
     ]
    },
    {
     "name": "stdout",
     "output_type": "stream",
     "text": [
      "An error occurred for BAJFINANCE.NS: Only valid with DatetimeIndex, TimedeltaIndex or PeriodIndex, but got an instance of 'Index'\n",
      "Downloading data for BAJAJFINSV.NS...\n",
      "An error occurred for BAJAJFINSV.NS: Only valid with DatetimeIndex, TimedeltaIndex or PeriodIndex, but got an instance of 'Index'\n",
      "Downloading data for BPCL.NS...\n"
     ]
    },
    {
     "name": "stderr",
     "output_type": "stream",
     "text": [
      "Failed to get ticker 'BPCL.NS' reason: ('Connection aborted.', ConnectionResetError(10054, 'An existing connection was forcibly closed by the remote host', None, 10054, None))\n",
      "[*********************100%%**********************]  1 of 1 completed\n",
      "\n",
      "1 Failed download:\n",
      "['BPCL.NS']: ConnectionError(ProtocolError('Connection aborted.', ConnectionResetError(10054, 'An existing connection was forcibly closed by the remote host', None, 10054, None)))\n",
      "Failed to get ticker 'BHARTIARTL.NS' reason: ('Connection aborted.', ConnectionResetError(10054, 'An existing connection was forcibly closed by the remote host', None, 10054, None))\n",
      "[*********************100%%**********************]  1 of 1 completed\n",
      "\n",
      "1 Failed download:\n",
      "['BHARTIARTL.NS']: ConnectionError(ProtocolError('Connection aborted.', ConnectionResetError(10054, 'An existing connection was forcibly closed by the remote host', None, 10054, None)))\n",
      "Failed to get ticker 'BRITANNIA.NS' reason: ('Connection aborted.', ConnectionResetError(10054, 'An existing connection was forcibly closed by the remote host', None, 10054, None))\n"
     ]
    },
    {
     "name": "stdout",
     "output_type": "stream",
     "text": [
      "An error occurred for BPCL.NS: Only valid with DatetimeIndex, TimedeltaIndex or PeriodIndex, but got an instance of 'Index'\n",
      "Downloading data for BHARTIARTL.NS...\n",
      "An error occurred for BHARTIARTL.NS: Only valid with DatetimeIndex, TimedeltaIndex or PeriodIndex, but got an instance of 'Index'\n",
      "Downloading data for BRITANNIA.NS...\n"
     ]
    },
    {
     "name": "stderr",
     "output_type": "stream",
     "text": [
      "[*********************100%%**********************]  1 of 1 completed\n",
      "\n",
      "1 Failed download:\n",
      "['BRITANNIA.NS']: ConnectionError(ProtocolError('Connection aborted.', ConnectionResetError(10054, 'An existing connection was forcibly closed by the remote host', None, 10054, None)))\n",
      "Failed to get ticker 'CIPLA.NS' reason: ('Connection aborted.', ConnectionResetError(10054, 'An existing connection was forcibly closed by the remote host', None, 10054, None))\n",
      "[*********************100%%**********************]  1 of 1 completed\n",
      "\n",
      "1 Failed download:\n",
      "['CIPLA.NS']: ConnectionError(ProtocolError('Connection aborted.', ConnectionResetError(10054, 'An existing connection was forcibly closed by the remote host', None, 10054, None)))\n",
      "Failed to get ticker 'COALINDIA.NS' reason: ('Connection aborted.', ConnectionResetError(10054, 'An existing connection was forcibly closed by the remote host', None, 10054, None))\n"
     ]
    },
    {
     "name": "stdout",
     "output_type": "stream",
     "text": [
      "An error occurred for BRITANNIA.NS: Only valid with DatetimeIndex, TimedeltaIndex or PeriodIndex, but got an instance of 'Index'\n",
      "Downloading data for CIPLA.NS...\n",
      "An error occurred for CIPLA.NS: Only valid with DatetimeIndex, TimedeltaIndex or PeriodIndex, but got an instance of 'Index'\n",
      "Downloading data for COALINDIA.NS...\n"
     ]
    },
    {
     "name": "stderr",
     "output_type": "stream",
     "text": [
      "[*********************100%%**********************]  1 of 1 completed\n",
      "\n",
      "1 Failed download:\n",
      "['COALINDIA.NS']: ConnectionError(ProtocolError('Connection aborted.', ConnectionResetError(10054, 'An existing connection was forcibly closed by the remote host', None, 10054, None)))\n",
      "Failed to get ticker 'DIVISLAB.NS' reason: ('Connection aborted.', ConnectionResetError(10054, 'An existing connection was forcibly closed by the remote host', None, 10054, None))\n",
      "[*********************100%%**********************]  1 of 1 completed\n",
      "\n",
      "1 Failed download:\n",
      "['DIVISLAB.NS']: ConnectionError(ProtocolError('Connection aborted.', ConnectionResetError(10054, 'An existing connection was forcibly closed by the remote host', None, 10054, None)))\n"
     ]
    },
    {
     "name": "stdout",
     "output_type": "stream",
     "text": [
      "An error occurred for COALINDIA.NS: Only valid with DatetimeIndex, TimedeltaIndex or PeriodIndex, but got an instance of 'Index'\n",
      "Downloading data for DIVISLAB.NS...\n",
      "An error occurred for DIVISLAB.NS: Only valid with DatetimeIndex, TimedeltaIndex or PeriodIndex, but got an instance of 'Index'\n",
      "Downloading data for DRREDDY.NS...\n"
     ]
    },
    {
     "name": "stderr",
     "output_type": "stream",
     "text": [
      "Failed to get ticker 'DRREDDY.NS' reason: ('Connection aborted.', ConnectionResetError(10054, 'An existing connection was forcibly closed by the remote host', None, 10054, None))\n",
      "[*********************100%%**********************]  1 of 1 completed\n",
      "\n",
      "1 Failed download:\n",
      "['DRREDDY.NS']: ConnectionError(ProtocolError('Connection aborted.', ConnectionResetError(10054, 'An existing connection was forcibly closed by the remote host', None, 10054, None)))\n",
      "Failed to get ticker 'EICHERMOT.NS' reason: ('Connection aborted.', ConnectionResetError(10054, 'An existing connection was forcibly closed by the remote host', None, 10054, None))\n",
      "[*********************100%%**********************]  1 of 1 completed\n",
      "\n",
      "1 Failed download:\n",
      "['EICHERMOT.NS']: ConnectionError(ProtocolError('Connection aborted.', ConnectionResetError(10054, 'An existing connection was forcibly closed by the remote host', None, 10054, None)))\n"
     ]
    },
    {
     "name": "stdout",
     "output_type": "stream",
     "text": [
      "An error occurred for DRREDDY.NS: Only valid with DatetimeIndex, TimedeltaIndex or PeriodIndex, but got an instance of 'Index'\n",
      "Downloading data for EICHERMOT.NS...\n",
      "An error occurred for EICHERMOT.NS: Only valid with DatetimeIndex, TimedeltaIndex or PeriodIndex, but got an instance of 'Index'\n",
      "Downloading data for GRASIM.NS...\n"
     ]
    },
    {
     "name": "stderr",
     "output_type": "stream",
     "text": [
      "Failed to get ticker 'GRASIM.NS' reason: ('Connection aborted.', ConnectionResetError(10054, 'An existing connection was forcibly closed by the remote host', None, 10054, None))\n",
      "[*********************100%%**********************]  1 of 1 completed\n",
      "\n",
      "1 Failed download:\n",
      "['GRASIM.NS']: ConnectionError(ProtocolError('Connection aborted.', ConnectionResetError(10054, 'An existing connection was forcibly closed by the remote host', None, 10054, None)))\n",
      "Failed to get ticker 'HCLTECH.NS' reason: ('Connection aborted.', ConnectionResetError(10054, 'An existing connection was forcibly closed by the remote host', None, 10054, None))\n",
      "[*********************100%%**********************]  1 of 1 completed\n",
      "\n",
      "1 Failed download:\n",
      "['HCLTECH.NS']: ConnectionError(ProtocolError('Connection aborted.', ConnectionResetError(10054, 'An existing connection was forcibly closed by the remote host', None, 10054, None)))\n"
     ]
    },
    {
     "name": "stdout",
     "output_type": "stream",
     "text": [
      "An error occurred for GRASIM.NS: Only valid with DatetimeIndex, TimedeltaIndex or PeriodIndex, but got an instance of 'Index'\n",
      "Downloading data for HCLTECH.NS...\n",
      "An error occurred for HCLTECH.NS: Only valid with DatetimeIndex, TimedeltaIndex or PeriodIndex, but got an instance of 'Index'\n",
      "Downloading data for HDFCBANK.NS...\n"
     ]
    },
    {
     "name": "stderr",
     "output_type": "stream",
     "text": [
      "Failed to get ticker 'HDFCBANK.NS' reason: ('Connection aborted.', ConnectionResetError(10054, 'An existing connection was forcibly closed by the remote host', None, 10054, None))\n",
      "[*********************100%%**********************]  1 of 1 completed\n",
      "\n",
      "1 Failed download:\n",
      "['HDFCBANK.NS']: ConnectionError(ProtocolError('Connection aborted.', ConnectionResetError(10054, 'An existing connection was forcibly closed by the remote host', None, 10054, None)))\n",
      "Failed to get ticker 'HDFC.NS' reason: ('Connection aborted.', ConnectionResetError(10054, 'An existing connection was forcibly closed by the remote host', None, 10054, None))\n",
      "[*********************100%%**********************]  1 of 1 completed\n",
      "\n",
      "1 Failed download:\n",
      "['HDFC.NS']: ConnectionError(ProtocolError('Connection aborted.', ConnectionResetError(10054, 'An existing connection was forcibly closed by the remote host', None, 10054, None)))\n"
     ]
    },
    {
     "name": "stdout",
     "output_type": "stream",
     "text": [
      "An error occurred for HDFCBANK.NS: Only valid with DatetimeIndex, TimedeltaIndex or PeriodIndex, but got an instance of 'Index'\n",
      "Downloading data for HDFC.NS...\n",
      "An error occurred for HDFC.NS: Only valid with DatetimeIndex, TimedeltaIndex or PeriodIndex, but got an instance of 'Index'\n",
      "Downloading data for HEROMOTOCO.NS...\n"
     ]
    },
    {
     "name": "stderr",
     "output_type": "stream",
     "text": [
      "Failed to get ticker 'HEROMOTOCO.NS' reason: ('Connection aborted.', ConnectionResetError(10054, 'An existing connection was forcibly closed by the remote host', None, 10054, None))\n",
      "[*********************100%%**********************]  1 of 1 completed\n",
      "\n",
      "1 Failed download:\n",
      "['HEROMOTOCO.NS']: ConnectionError(ProtocolError('Connection aborted.', ConnectionResetError(10054, 'An existing connection was forcibly closed by the remote host', None, 10054, None)))\n",
      "Failed to get ticker 'HINDALCO.NS' reason: ('Connection aborted.', ConnectionResetError(10054, 'An existing connection was forcibly closed by the remote host', None, 10054, None))\n",
      "[*********************100%%**********************]  1 of 1 completed"
     ]
    },
    {
     "name": "stdout",
     "output_type": "stream",
     "text": [
      "An error occurred for HEROMOTOCO.NS: Only valid with DatetimeIndex, TimedeltaIndex or PeriodIndex, but got an instance of 'Index'\n",
      "Downloading data for HINDALCO.NS...\n"
     ]
    },
    {
     "name": "stderr",
     "output_type": "stream",
     "text": [
      "\n",
      "\n",
      "1 Failed download:\n",
      "['HINDALCO.NS']: ConnectionError(ProtocolError('Connection aborted.', ConnectionResetError(10054, 'An existing connection was forcibly closed by the remote host', None, 10054, None)))\n",
      "Failed to get ticker 'HINDUNILVR.NS' reason: ('Connection aborted.', ConnectionResetError(10054, 'An existing connection was forcibly closed by the remote host', None, 10054, None))\n",
      "[*********************100%%**********************]  1 of 1 completed"
     ]
    },
    {
     "name": "stdout",
     "output_type": "stream",
     "text": [
      "An error occurred for HINDALCO.NS: Only valid with DatetimeIndex, TimedeltaIndex or PeriodIndex, but got an instance of 'Index'\n",
      "Downloading data for HINDUNILVR.NS...\n"
     ]
    },
    {
     "name": "stderr",
     "output_type": "stream",
     "text": [
      "\n",
      "\n",
      "1 Failed download:\n",
      "['HINDUNILVR.NS']: ConnectionError(ProtocolError('Connection aborted.', ConnectionResetError(10054, 'An existing connection was forcibly closed by the remote host', None, 10054, None)))\n",
      "Failed to get ticker 'ICICIBANK.NS' reason: ('Connection aborted.', ConnectionResetError(10054, 'An existing connection was forcibly closed by the remote host', None, 10054, None))\n",
      "[*********************100%%**********************]  1 of 1 completed"
     ]
    },
    {
     "name": "stdout",
     "output_type": "stream",
     "text": [
      "An error occurred for HINDUNILVR.NS: Only valid with DatetimeIndex, TimedeltaIndex or PeriodIndex, but got an instance of 'Index'\n",
      "Downloading data for ICICIBANK.NS...\n"
     ]
    },
    {
     "name": "stderr",
     "output_type": "stream",
     "text": [
      "\n",
      "\n",
      "1 Failed download:\n",
      "['ICICIBANK.NS']: ConnectionError(ProtocolError('Connection aborted.', ConnectionResetError(10054, 'An existing connection was forcibly closed by the remote host', None, 10054, None)))\n",
      "Failed to get ticker 'ITC.NS' reason: ('Connection aborted.', ConnectionResetError(10054, 'An existing connection was forcibly closed by the remote host', None, 10054, None))\n",
      "[*********************100%%**********************]  1 of 1 completed\n",
      "\n",
      "1 Failed download:\n",
      "['ITC.NS']: ConnectionError(ProtocolError('Connection aborted.', ConnectionResetError(10054, 'An existing connection was forcibly closed by the remote host', None, 10054, None)))\n",
      "Failed to get ticker 'INDUSINDBK.NS' reason: ('Connection aborted.', ConnectionResetError(10054, 'An existing connection was forcibly closed by the remote host', None, 10054, None))\n"
     ]
    },
    {
     "name": "stdout",
     "output_type": "stream",
     "text": [
      "An error occurred for ICICIBANK.NS: Only valid with DatetimeIndex, TimedeltaIndex or PeriodIndex, but got an instance of 'Index'\n",
      "Downloading data for ITC.NS...\n",
      "An error occurred for ITC.NS: Only valid with DatetimeIndex, TimedeltaIndex or PeriodIndex, but got an instance of 'Index'\n",
      "Downloading data for INDUSINDBK.NS...\n"
     ]
    },
    {
     "name": "stderr",
     "output_type": "stream",
     "text": [
      "[*********************100%%**********************]  1 of 1 completed\n",
      "\n",
      "1 Failed download:\n",
      "['INDUSINDBK.NS']: ConnectionError(ProtocolError('Connection aborted.', ConnectionResetError(10054, 'An existing connection was forcibly closed by the remote host', None, 10054, None)))\n",
      "Failed to get ticker 'INFY.NS' reason: ('Connection aborted.', ConnectionResetError(10054, 'An existing connection was forcibly closed by the remote host', None, 10054, None))\n",
      "[*********************100%%**********************]  1 of 1 completed\n",
      "\n",
      "1 Failed download:\n",
      "['INFY.NS']: ConnectionError(ProtocolError('Connection aborted.', ConnectionResetError(10054, 'An existing connection was forcibly closed by the remote host', None, 10054, None)))\n"
     ]
    },
    {
     "name": "stdout",
     "output_type": "stream",
     "text": [
      "An error occurred for INDUSINDBK.NS: Only valid with DatetimeIndex, TimedeltaIndex or PeriodIndex, but got an instance of 'Index'\n",
      "Downloading data for INFY.NS...\n",
      "An error occurred for INFY.NS: Only valid with DatetimeIndex, TimedeltaIndex or PeriodIndex, but got an instance of 'Index'\n",
      "Downloading data for JSWSTEEL.NS...\n"
     ]
    },
    {
     "name": "stderr",
     "output_type": "stream",
     "text": [
      "Failed to get ticker 'JSWSTEEL.NS' reason: ('Connection aborted.', ConnectionResetError(10054, 'An existing connection was forcibly closed by the remote host', None, 10054, None))\n",
      "[*********************100%%**********************]  1 of 1 completed\n",
      "\n",
      "1 Failed download:\n",
      "['JSWSTEEL.NS']: ConnectionError(ProtocolError('Connection aborted.', ConnectionResetError(10054, 'An existing connection was forcibly closed by the remote host', None, 10054, None)))\n",
      "Failed to get ticker 'KOTAKBANK.NS' reason: ('Connection aborted.', ConnectionResetError(10054, 'An existing connection was forcibly closed by the remote host', None, 10054, None))\n",
      "[*********************100%%**********************]  1 of 1 completed\n",
      "\n",
      "1 Failed download:\n",
      "['KOTAKBANK.NS']: ConnectionError(ProtocolError('Connection aborted.', ConnectionResetError(10054, 'An existing connection was forcibly closed by the remote host', None, 10054, None)))\n"
     ]
    },
    {
     "name": "stdout",
     "output_type": "stream",
     "text": [
      "An error occurred for JSWSTEEL.NS: Only valid with DatetimeIndex, TimedeltaIndex or PeriodIndex, but got an instance of 'Index'\n",
      "Downloading data for KOTAKBANK.NS...\n",
      "An error occurred for KOTAKBANK.NS: Only valid with DatetimeIndex, TimedeltaIndex or PeriodIndex, but got an instance of 'Index'\n",
      "Downloading data for LT.NS...\n"
     ]
    },
    {
     "name": "stderr",
     "output_type": "stream",
     "text": [
      "Failed to get ticker 'LT.NS' reason: ('Connection aborted.', ConnectionResetError(10054, 'An existing connection was forcibly closed by the remote host', None, 10054, None))\n",
      "[*********************100%%**********************]  1 of 1 completed\n",
      "\n",
      "1 Failed download:\n",
      "['LT.NS']: ConnectionError(ProtocolError('Connection aborted.', ConnectionResetError(10054, 'An existing connection was forcibly closed by the remote host', None, 10054, None)))\n",
      "Failed to get ticker 'M&M.NS' reason: ('Connection aborted.', ConnectionResetError(10054, 'An existing connection was forcibly closed by the remote host', None, 10054, None))\n",
      "[*********************100%%**********************]  1 of 1 completed\n",
      "\n",
      "1 Failed download:\n",
      "['M&M.NS']: ConnectionError(ProtocolError('Connection aborted.', ConnectionResetError(10054, 'An existing connection was forcibly closed by the remote host', None, 10054, None)))\n"
     ]
    },
    {
     "name": "stdout",
     "output_type": "stream",
     "text": [
      "An error occurred for LT.NS: Only valid with DatetimeIndex, TimedeltaIndex or PeriodIndex, but got an instance of 'Index'\n",
      "Downloading data for M&M.NS...\n",
      "An error occurred for M&M.NS: Only valid with DatetimeIndex, TimedeltaIndex or PeriodIndex, but got an instance of 'Index'\n",
      "Downloading data for MARUTI.NS...\n"
     ]
    },
    {
     "name": "stderr",
     "output_type": "stream",
     "text": [
      "Failed to get ticker 'MARUTI.NS' reason: ('Connection aborted.', ConnectionResetError(10054, 'An existing connection was forcibly closed by the remote host', None, 10054, None))\n",
      "[*********************100%%**********************]  1 of 1 completed\n",
      "\n",
      "1 Failed download:\n",
      "['MARUTI.NS']: ConnectionError(ProtocolError('Connection aborted.', ConnectionResetError(10054, 'An existing connection was forcibly closed by the remote host', None, 10054, None)))\n"
     ]
    },
    {
     "name": "stdout",
     "output_type": "stream",
     "text": [
      "An error occurred for MARUTI.NS: Only valid with DatetimeIndex, TimedeltaIndex or PeriodIndex, but got an instance of 'Index'\n",
      "Downloading data for NTPC.NS...\n"
     ]
    },
    {
     "name": "stderr",
     "output_type": "stream",
     "text": [
      "Failed to get ticker 'NTPC.NS' reason: ('Connection aborted.', ConnectionResetError(10054, 'An existing connection was forcibly closed by the remote host', None, 10054, None))\n",
      "[*********************100%%**********************]  1 of 1 completed\n",
      "\n",
      "1 Failed download:\n",
      "['NTPC.NS']: ConnectionError(ProtocolError('Connection aborted.', ConnectionResetError(10054, 'An existing connection was forcibly closed by the remote host', None, 10054, None)))\n",
      "Failed to get ticker 'NESTLEIND.NS' reason: ('Connection aborted.', ConnectionResetError(10054, 'An existing connection was forcibly closed by the remote host', None, 10054, None))\n"
     ]
    },
    {
     "name": "stdout",
     "output_type": "stream",
     "text": [
      "An error occurred for NTPC.NS: Only valid with DatetimeIndex, TimedeltaIndex or PeriodIndex, but got an instance of 'Index'\n",
      "Downloading data for NESTLEIND.NS...\n"
     ]
    },
    {
     "name": "stderr",
     "output_type": "stream",
     "text": [
      "[*********************100%%**********************]  1 of 1 completed\n",
      "\n",
      "1 Failed download:\n",
      "['NESTLEIND.NS']: ConnectionError(ProtocolError('Connection aborted.', ConnectionResetError(10054, 'An existing connection was forcibly closed by the remote host', None, 10054, None)))\n",
      "Failed to get ticker 'ONGC.NS' reason: ('Connection aborted.', ConnectionResetError(10054, 'An existing connection was forcibly closed by the remote host', None, 10054, None))\n",
      "[*********************100%%**********************]  1 of 1 completed\n",
      "\n",
      "1 Failed download:\n",
      "['ONGC.NS']: ConnectionError(ProtocolError('Connection aborted.', ConnectionResetError(10054, 'An existing connection was forcibly closed by the remote host', None, 10054, None)))\n"
     ]
    },
    {
     "name": "stdout",
     "output_type": "stream",
     "text": [
      "An error occurred for NESTLEIND.NS: Only valid with DatetimeIndex, TimedeltaIndex or PeriodIndex, but got an instance of 'Index'\n",
      "Downloading data for ONGC.NS...\n",
      "An error occurred for ONGC.NS: Only valid with DatetimeIndex, TimedeltaIndex or PeriodIndex, but got an instance of 'Index'\n",
      "Downloading data for POWERGRID.NS...\n"
     ]
    },
    {
     "name": "stderr",
     "output_type": "stream",
     "text": [
      "Failed to get ticker 'POWERGRID.NS' reason: ('Connection aborted.', ConnectionResetError(10054, 'An existing connection was forcibly closed by the remote host', None, 10054, None))\n",
      "[*********************100%%**********************]  1 of 1 completed\n",
      "\n",
      "1 Failed download:\n",
      "['POWERGRID.NS']: ConnectionError(ProtocolError('Connection aborted.', ConnectionResetError(10054, 'An existing connection was forcibly closed by the remote host', None, 10054, None)))\n",
      "Failed to get ticker 'RELIANCE.NS' reason: ('Connection aborted.', ConnectionResetError(10054, 'An existing connection was forcibly closed by the remote host', None, 10054, None))\n",
      "[*********************100%%**********************]  1 of 1 completed\n",
      "\n",
      "1 Failed download:\n",
      "['RELIANCE.NS']: ConnectionError(ProtocolError('Connection aborted.', ConnectionResetError(10054, 'An existing connection was forcibly closed by the remote host', None, 10054, None)))\n"
     ]
    },
    {
     "name": "stdout",
     "output_type": "stream",
     "text": [
      "An error occurred for POWERGRID.NS: Only valid with DatetimeIndex, TimedeltaIndex or PeriodIndex, but got an instance of 'Index'\n",
      "Downloading data for RELIANCE.NS...\n",
      "An error occurred for RELIANCE.NS: Only valid with DatetimeIndex, TimedeltaIndex or PeriodIndex, but got an instance of 'Index'\n",
      "Downloading data for SBILIFE.NS...\n"
     ]
    },
    {
     "name": "stderr",
     "output_type": "stream",
     "text": [
      "Failed to get ticker 'SBILIFE.NS' reason: ('Connection aborted.', ConnectionResetError(10054, 'An existing connection was forcibly closed by the remote host', None, 10054, None))\n",
      "[*********************100%%**********************]  1 of 1 completed\n",
      "\n",
      "1 Failed download:\n",
      "['SBILIFE.NS']: ConnectionError(ProtocolError('Connection aborted.', ConnectionResetError(10054, 'An existing connection was forcibly closed by the remote host', None, 10054, None)))\n",
      "Failed to get ticker 'SBIN.NS' reason: ('Connection aborted.', ConnectionResetError(10054, 'An existing connection was forcibly closed by the remote host', None, 10054, None))\n",
      "[*********************100%%**********************]  1 of 1 completed\n",
      "\n",
      "1 Failed download:\n",
      "['SBIN.NS']: ConnectionError(ProtocolError('Connection aborted.', ConnectionResetError(10054, 'An existing connection was forcibly closed by the remote host', None, 10054, None)))\n",
      "Failed to get ticker 'SUNPHARMA.NS' reason: ('Connection aborted.', ConnectionResetError(10054, 'An existing connection was forcibly closed by the remote host', None, 10054, None))\n"
     ]
    },
    {
     "name": "stdout",
     "output_type": "stream",
     "text": [
      "An error occurred for SBILIFE.NS: Only valid with DatetimeIndex, TimedeltaIndex or PeriodIndex, but got an instance of 'Index'\n",
      "Downloading data for SBIN.NS...\n",
      "An error occurred for SBIN.NS: Only valid with DatetimeIndex, TimedeltaIndex or PeriodIndex, but got an instance of 'Index'\n",
      "Downloading data for SUNPHARMA.NS...\n"
     ]
    },
    {
     "name": "stderr",
     "output_type": "stream",
     "text": [
      "[*********************100%%**********************]  1 of 1 completed\n",
      "\n",
      "1 Failed download:\n",
      "['SUNPHARMA.NS']: ConnectionError(ProtocolError('Connection aborted.', ConnectionResetError(10054, 'An existing connection was forcibly closed by the remote host', None, 10054, None)))\n",
      "Failed to get ticker 'TCS.NS' reason: ('Connection aborted.', ConnectionResetError(10054, 'An existing connection was forcibly closed by the remote host', None, 10054, None))\n",
      "[*********************100%%**********************]  1 of 1 completed\n",
      "\n",
      "1 Failed download:\n",
      "['TCS.NS']: ConnectionError(ProtocolError('Connection aborted.', ConnectionResetError(10054, 'An existing connection was forcibly closed by the remote host', None, 10054, None)))\n"
     ]
    },
    {
     "name": "stdout",
     "output_type": "stream",
     "text": [
      "An error occurred for SUNPHARMA.NS: Only valid with DatetimeIndex, TimedeltaIndex or PeriodIndex, but got an instance of 'Index'\n",
      "Downloading data for TCS.NS...\n",
      "An error occurred for TCS.NS: Only valid with DatetimeIndex, TimedeltaIndex or PeriodIndex, but got an instance of 'Index'\n",
      "Downloading data for TATACONSUM.NS...\n"
     ]
    },
    {
     "name": "stderr",
     "output_type": "stream",
     "text": [
      "Failed to get ticker 'TATACONSUM.NS' reason: ('Connection aborted.', ConnectionResetError(10054, 'An existing connection was forcibly closed by the remote host', None, 10054, None))\n",
      "[*********************100%%**********************]  1 of 1 completed\n",
      "\n",
      "1 Failed download:\n",
      "['TATACONSUM.NS']: ConnectionError(ProtocolError('Connection aborted.', ConnectionResetError(10054, 'An existing connection was forcibly closed by the remote host', None, 10054, None)))\n",
      "Failed to get ticker 'TATAMOTORS.NS' reason: ('Connection aborted.', ConnectionResetError(10054, 'An existing connection was forcibly closed by the remote host', None, 10054, None))\n",
      "[*********************100%%**********************]  1 of 1 completed\n",
      "\n",
      "1 Failed download:\n",
      "['TATAMOTORS.NS']: ConnectionError(ProtocolError('Connection aborted.', ConnectionResetError(10054, 'An existing connection was forcibly closed by the remote host', None, 10054, None)))\n",
      "Failed to get ticker 'TATASTEEL.NS' reason: ('Connection aborted.', ConnectionResetError(10054, 'An existing connection was forcibly closed by the remote host', None, 10054, None))\n"
     ]
    },
    {
     "name": "stdout",
     "output_type": "stream",
     "text": [
      "An error occurred for TATACONSUM.NS: Only valid with DatetimeIndex, TimedeltaIndex or PeriodIndex, but got an instance of 'Index'\n",
      "Downloading data for TATAMOTORS.NS...\n",
      "An error occurred for TATAMOTORS.NS: Only valid with DatetimeIndex, TimedeltaIndex or PeriodIndex, but got an instance of 'Index'\n",
      "Downloading data for TATASTEEL.NS...\n"
     ]
    },
    {
     "name": "stderr",
     "output_type": "stream",
     "text": [
      "[*********************100%%**********************]  1 of 1 completed\n",
      "\n",
      "1 Failed download:\n",
      "['TATASTEEL.NS']: ConnectionError(ProtocolError('Connection aborted.', ConnectionResetError(10054, 'An existing connection was forcibly closed by the remote host', None, 10054, None)))\n",
      "Failed to get ticker 'TECHM.NS' reason: ('Connection aborted.', ConnectionResetError(10054, 'An existing connection was forcibly closed by the remote host', None, 10054, None))\n",
      "[*********************100%%**********************]  1 of 1 completed\n",
      "\n",
      "1 Failed download:\n",
      "['TECHM.NS']: ConnectionError(ProtocolError('Connection aborted.', ConnectionResetError(10054, 'An existing connection was forcibly closed by the remote host', None, 10054, None)))\n",
      "Failed to get ticker 'TITAN.NS' reason: ('Connection aborted.', ConnectionResetError(10054, 'An existing connection was forcibly closed by the remote host', None, 10054, None))\n"
     ]
    },
    {
     "name": "stdout",
     "output_type": "stream",
     "text": [
      "An error occurred for TATASTEEL.NS: Only valid with DatetimeIndex, TimedeltaIndex or PeriodIndex, but got an instance of 'Index'\n",
      "Downloading data for TECHM.NS...\n",
      "An error occurred for TECHM.NS: Only valid with DatetimeIndex, TimedeltaIndex or PeriodIndex, but got an instance of 'Index'\n",
      "Downloading data for TITAN.NS...\n"
     ]
    },
    {
     "name": "stderr",
     "output_type": "stream",
     "text": [
      "[*********************100%%**********************]  1 of 1 completed\n",
      "\n",
      "1 Failed download:\n",
      "['TITAN.NS']: ConnectionError(ProtocolError('Connection aborted.', ConnectionResetError(10054, 'An existing connection was forcibly closed by the remote host', None, 10054, None)))\n",
      "Failed to get ticker 'ULTRACEMCO.NS' reason: ('Connection aborted.', ConnectionResetError(10054, 'An existing connection was forcibly closed by the remote host', None, 10054, None))\n",
      "[*********************100%%**********************]  1 of 1 completed\n",
      "\n",
      "1 Failed download:\n",
      "['ULTRACEMCO.NS']: ConnectionError(ProtocolError('Connection aborted.', ConnectionResetError(10054, 'An existing connection was forcibly closed by the remote host', None, 10054, None)))\n"
     ]
    },
    {
     "name": "stdout",
     "output_type": "stream",
     "text": [
      "An error occurred for TITAN.NS: Only valid with DatetimeIndex, TimedeltaIndex or PeriodIndex, but got an instance of 'Index'\n",
      "Downloading data for ULTRACEMCO.NS...\n"
     ]
    },
    {
     "name": "stderr",
     "output_type": "stream",
     "text": [
      "Failed to get ticker 'UPL.NS' reason: ('Connection aborted.', ConnectionResetError(10054, 'An existing connection was forcibly closed by the remote host', None, 10054, None))\n"
     ]
    },
    {
     "name": "stdout",
     "output_type": "stream",
     "text": [
      "An error occurred for ULTRACEMCO.NS: Only valid with DatetimeIndex, TimedeltaIndex or PeriodIndex, but got an instance of 'Index'\n",
      "Downloading data for UPL.NS...\n"
     ]
    },
    {
     "name": "stderr",
     "output_type": "stream",
     "text": [
      "[*********************100%%**********************]  1 of 1 completed\n",
      "\n",
      "1 Failed download:\n",
      "['UPL.NS']: ConnectionError(ProtocolError('Connection aborted.', ConnectionResetError(10054, 'An existing connection was forcibly closed by the remote host', None, 10054, None)))\n",
      "Failed to get ticker 'WIPRO.NS' reason: ('Connection aborted.', ConnectionResetError(10054, 'An existing connection was forcibly closed by the remote host', None, 10054, None))\n",
      "[*********************100%%**********************]  1 of 1 completed\n",
      "\n",
      "1 Failed download:\n",
      "['WIPRO.NS']: ConnectionError(ProtocolError('Connection aborted.', ConnectionResetError(10054, 'An existing connection was forcibly closed by the remote host', None, 10054, None)))\n"
     ]
    },
    {
     "name": "stdout",
     "output_type": "stream",
     "text": [
      "An error occurred for UPL.NS: Only valid with DatetimeIndex, TimedeltaIndex or PeriodIndex, but got an instance of 'Index'\n",
      "Downloading data for WIPRO.NS...\n",
      "An error occurred for WIPRO.NS: Only valid with DatetimeIndex, TimedeltaIndex or PeriodIndex, but got an instance of 'Index'\n"
     ]
    }
   ],
   "source": [
    "import yfinance as yf\n",
    "import pandas as pd\n",
    "import os\n",
    "\n",
    "# Specify the directory to save the CSV files\n",
    "output_directory = r\"D:\\AlgoT\\yfinanceData\\Nifty50_4H\"\n",
    "\n",
    "# Create the directory if it doesn't exist\n",
    "if not os.path.exists(output_directory):\n",
    "    os.makedirs(output_directory)\n",
    "\n",
    "# Define the Nifty 50 stock symbols\n",
    "nifty_50_stocks = [\n",
    "    \"ADANIPORTS.NS\", \"ASIANPAINT.NS\", \"AXISBANK.NS\", \"BAJAJ-AUTO.NS\", \"BAJFINANCE.NS\", \n",
    "    \"BAJAJFINSV.NS\", \"BPCL.NS\", \"BHARTIARTL.NS\", \"BRITANNIA.NS\", \"CIPLA.NS\", \n",
    "    \"COALINDIA.NS\", \"DIVISLAB.NS\", \"DRREDDY.NS\", \"EICHERMOT.NS\", \"GRASIM.NS\", \n",
    "    \"HCLTECH.NS\", \"HDFCBANK.NS\", \"HDFC.NS\", \"HEROMOTOCO.NS\", \"HINDALCO.NS\", \n",
    "    \"HINDUNILVR.NS\", \"ICICIBANK.NS\", \"ITC.NS\", \"INDUSINDBK.NS\", \"INFY.NS\", \n",
    "    \"JSWSTEEL.NS\", \"KOTAKBANK.NS\", \"LT.NS\", \"M&M.NS\", \"MARUTI.NS\", \n",
    "    \"NTPC.NS\", \"NESTLEIND.NS\", \"ONGC.NS\", \"POWERGRID.NS\", \"RELIANCE.NS\", \n",
    "    \"SBILIFE.NS\", \"SBIN.NS\", \"SUNPHARMA.NS\", \"TCS.NS\", \"TATACONSUM.NS\", \n",
    "    \"TATAMOTORS.NS\", \"TATASTEEL.NS\", \"TECHM.NS\", \"TITAN.NS\", \"ULTRACEMCO.NS\", \n",
    "    \"UPL.NS\", \"WIPRO.NS\"\n",
    "]\n",
    "\n",
    "# Loop through each stock symbol and download the 4-hour time frame data\n",
    "for stock in nifty_50_stocks:\n",
    "    print(f\"Downloading data for {stock}...\")\n",
    "    try:\n",
    "        # Download 1-hour data for the past year\n",
    "        df = yf.download(stock, interval=\"1h\", period=\"1y\")\n",
    "        \n",
    "        # Resample to 4-hour intervals\n",
    "        df_4h = df.resample('4H').agg({\n",
    "            'Open': 'first',\n",
    "            'High': 'max',\n",
    "            'Low': 'min',\n",
    "            'Close': 'last',\n",
    "            'Volume': 'sum'\n",
    "        }).dropna()\n",
    "        \n",
    "        # Keep only the required columns\n",
    "        df_4h = df_4h[['Open', 'High', 'Low', 'Close', 'Volume']]\n",
    "        \n",
    "        # Save to CSV\n",
    "        output_file = os.path.join(output_directory, f\"{stock}_4H.csv\")\n",
    "        df_4h.to_csv(output_file)\n",
    "        print(f\"Data for {stock} saved to {output_file}\")\n",
    "        \n",
    "    except Exception as e:\n",
    "        print(f\"An error occurred for {stock}: {e}\")\n"
   ]
  },
  {
   "cell_type": "code",
   "execution_count": null,
   "metadata": {},
   "outputs": [],
   "source": []
  },
  {
   "cell_type": "code",
   "execution_count": null,
   "metadata": {},
   "outputs": [],
   "source": []
  },
  {
   "cell_type": "code",
   "execution_count": null,
   "metadata": {},
   "outputs": [],
   "source": []
  },
  {
   "cell_type": "code",
   "execution_count": null,
   "metadata": {},
   "outputs": [],
   "source": []
  },
  {
   "cell_type": "code",
   "execution_count": 3,
   "metadata": {},
   "outputs": [
    {
     "name": "stdout",
     "output_type": "stream",
     "text": [
      "An error occurred with file ADANIPORTS.NS_4H.csv: Length mismatch: Expected axis has 6 elements, new values have 7 elements\n",
      "An error occurred with file ASIANPAINT.NS_4H.csv: Length mismatch: Expected axis has 6 elements, new values have 7 elements\n",
      "An error occurred with file AXISBANK.NS_4H.csv: Length mismatch: Expected axis has 6 elements, new values have 7 elements\n",
      "An error occurred with file BAJAJ-AUTO.NS_4H.csv: Length mismatch: Expected axis has 6 elements, new values have 7 elements\n",
      "An error occurred with file BAJAJFINSV.NS_4H.csv: Length mismatch: Expected axis has 6 elements, new values have 7 elements\n",
      "An error occurred with file BAJFINANCE.NS_4H.csv: Length mismatch: Expected axis has 6 elements, new values have 7 elements\n",
      "An error occurred with file BHARTIARTL.NS_4H.csv: Length mismatch: Expected axis has 6 elements, new values have 7 elements\n",
      "An error occurred with file BPCL.NS_4H.csv: Length mismatch: Expected axis has 6 elements, new values have 7 elements\n",
      "An error occurred with file BRITANNIA.NS_4H.csv: Length mismatch: Expected axis has 6 elements, new values have 7 elements\n",
      "An error occurred with file CIPLA.NS_4H.csv: Length mismatch: Expected axis has 6 elements, new values have 7 elements\n",
      "An error occurred with file COALINDIA.NS_4H.csv: Length mismatch: Expected axis has 6 elements, new values have 7 elements\n",
      "An error occurred with file DIVISLAB.NS_4H.csv: Length mismatch: Expected axis has 6 elements, new values have 7 elements\n",
      "An error occurred with file DRREDDY.NS_4H.csv: Length mismatch: Expected axis has 6 elements, new values have 7 elements\n",
      "An error occurred with file EICHERMOT.NS_4H.csv: Length mismatch: Expected axis has 6 elements, new values have 7 elements\n",
      "An error occurred with file GRASIM.NS_4H.csv: Length mismatch: Expected axis has 6 elements, new values have 7 elements\n",
      "An error occurred with file HCLTECH.NS_4H.csv: Length mismatch: Expected axis has 6 elements, new values have 7 elements\n",
      "An error occurred with file HDFCBANK.NS_4H.csv: Length mismatch: Expected axis has 6 elements, new values have 7 elements\n",
      "An error occurred with file HEROMOTOCO.NS_4H.csv: Length mismatch: Expected axis has 6 elements, new values have 7 elements\n",
      "An error occurred with file HINDALCO.NS_4H.csv: Length mismatch: Expected axis has 6 elements, new values have 7 elements\n",
      "An error occurred with file HINDUNILVR.NS_4H.csv: Length mismatch: Expected axis has 6 elements, new values have 7 elements\n",
      "An error occurred with file ICICIBANK.NS_4H.csv: Length mismatch: Expected axis has 6 elements, new values have 7 elements\n",
      "An error occurred with file INDUSINDBK.NS_4H.csv: Length mismatch: Expected axis has 6 elements, new values have 7 elements\n",
      "An error occurred with file INFY.NS_4H.csv: Length mismatch: Expected axis has 6 elements, new values have 7 elements\n",
      "An error occurred with file ITC.NS_4H.csv: Length mismatch: Expected axis has 6 elements, new values have 7 elements\n",
      "An error occurred with file JSWSTEEL.NS_4H.csv: Length mismatch: Expected axis has 6 elements, new values have 7 elements\n",
      "An error occurred with file KOTAKBANK.NS_4H.csv: Length mismatch: Expected axis has 6 elements, new values have 7 elements\n",
      "An error occurred with file LT.NS_4H.csv: Length mismatch: Expected axis has 6 elements, new values have 7 elements\n",
      "An error occurred with file M&M.NS_4H.csv: Length mismatch: Expected axis has 6 elements, new values have 7 elements\n",
      "An error occurred with file MARUTI.NS_4H.csv: Length mismatch: Expected axis has 6 elements, new values have 7 elements\n",
      "An error occurred with file NESTLEIND.NS_4H.csv: Length mismatch: Expected axis has 6 elements, new values have 7 elements\n",
      "An error occurred with file NTPC.NS_4H.csv: Length mismatch: Expected axis has 6 elements, new values have 7 elements\n",
      "An error occurred with file ONGC.NS_4H.csv: Length mismatch: Expected axis has 6 elements, new values have 7 elements\n",
      "An error occurred with file POWERGRID.NS_4H.csv: Length mismatch: Expected axis has 6 elements, new values have 7 elements\n",
      "An error occurred with file RELIANCE.NS_4H.csv: Length mismatch: Expected axis has 6 elements, new values have 7 elements\n",
      "An error occurred with file SBILIFE.NS_4H.csv: Length mismatch: Expected axis has 6 elements, new values have 7 elements\n",
      "An error occurred with file SBIN.NS_4H.csv: Length mismatch: Expected axis has 6 elements, new values have 7 elements\n",
      "An error occurred with file SUNPHARMA.NS_4H.csv: Length mismatch: Expected axis has 6 elements, new values have 7 elements\n",
      "An error occurred with file TATACONSUM.NS_4H.csv: Length mismatch: Expected axis has 6 elements, new values have 7 elements\n",
      "An error occurred with file TATAMOTORS.NS_4H.csv: Length mismatch: Expected axis has 6 elements, new values have 7 elements\n",
      "An error occurred with file TATASTEEL.NS_4H.csv: Length mismatch: Expected axis has 6 elements, new values have 7 elements\n",
      "An error occurred with file TCS.NS_4H.csv: Length mismatch: Expected axis has 6 elements, new values have 7 elements\n",
      "An error occurred with file TECHM.NS_4H.csv: Length mismatch: Expected axis has 6 elements, new values have 7 elements\n",
      "An error occurred with file TITAN.NS_4H.csv: Length mismatch: Expected axis has 6 elements, new values have 7 elements\n",
      "An error occurred with file ULTRACEMCO.NS_4H.csv: Length mismatch: Expected axis has 6 elements, new values have 7 elements\n",
      "An error occurred with file UPL.NS_4H.csv: Length mismatch: Expected axis has 6 elements, new values have 7 elements\n",
      "An error occurred with file WIPRO.NS_4H.csv: Length mismatch: Expected axis has 6 elements, new values have 7 elements\n"
     ]
    }
   ],
   "source": [
    "import pandas as pd\n",
    "import os\n",
    "from chart_patterns.chart_patterns.head_and_shoulders import find_head_and_shoulders\n",
    "from chart_patterns.chart_patterns.plotting import display_chart_pattern\n",
    "\n",
    "# Specify the directory containing your CSV files\n",
    "directory_path = r\"D:\\AlgoT\\yfinanceData\\h4data\"\n",
    "\n",
    "# Specify the directory to save the images\n",
    "images_directory = os.path.join(directory_path, \"images\", \"hs\")\n",
    "\n",
    "# Create the images directory if it doesn't exist\n",
    "if not os.path.exists(images_directory):\n",
    "    os.makedirs(images_directory)\n",
    "\n",
    "# Loop through each file in the directory\n",
    "for filename in os.listdir(directory_path):\n",
    "    if filename.endswith(\".csv\"):\n",
    "        file_path = os.path.join(directory_path, filename)\n",
    "        try:\n",
    "            # Read in your OHLC data\n",
    "            ohlc = pd.read_csv(file_path)\n",
    "            ohlc.columns = ['date', 'open', 'high', 'low', 'close', 'volume']\n",
    "            \n",
    "            print(f\"Data loaded successfully from {file_path}\")\n",
    "\n",
    "            # Check if the necessary columns exist in the dataframe\n",
    "            required_columns = ['open', 'high', 'low', 'close']\n",
    "            if not all(column in ohlc.columns for column in required_columns):\n",
    "                raise ValueError(f\"The CSV file {filename} must contain the following columns: {required_columns}\")\n",
    "\n",
    "            # Find the head and shoulders pattern\n",
    "            ohlc = find_head_and_shoulders(ohlc)\n",
    "            print(f\"Head and shoulders patterns found and annotated in the DataFrame for {filename}.\")\n",
    "\n",
    "            # Plot the results and save to the specified directory\n",
    "            try:\n",
    "                # Modify this function if necessary to support saving to a directory\n",
    "                display_chart_pattern(ohlc, pattern=\"hs\", save_directory=images_directory)\n",
    "                print(f\"Chart patterns plotted and saved successfully for {filename} in {images_directory}.\")\n",
    "            except Exception as e:\n",
    "                print(f\"An error occurred while plotting the chart patterns for {filename}: {e}\")\n",
    "                raise\n",
    "\n",
    "        except FileNotFoundError:\n",
    "            print(f\"File not found: {file_path}\")\n",
    "        except Exception as e:\n",
    "            print(f\"An error occurred with file {filename}: {e}\")\n"
   ]
  },
  {
   "cell_type": "code",
   "execution_count": 6,
   "metadata": {},
   "outputs": [
    {
     "name": "stdout",
     "output_type": "stream",
     "text": [
      "Data loaded successfully from D:\\AlgoT\\yfinanceData\\h4data\\ADANIPORTS.NS_4H.csv\n",
      "Head and shoulders patterns found and annotated in the DataFrame for ADANIPORTS.NS_4H.csv.\n",
      "There are no `hs` patterns detected.\n",
      "There are no `hs` patterns detected.\n",
      "Chart patterns plotted and saved successfully for ADANIPORTS.NS_4H.csv.\n",
      "Data loaded successfully from D:\\AlgoT\\yfinanceData\\h4data\\ASIANPAINT.NS_4H.csv\n",
      "Head and shoulders patterns found and annotated in the DataFrame for ASIANPAINT.NS_4H.csv.\n",
      "There are no `hs` patterns detected.\n",
      "There are no `hs` patterns detected.\n",
      "Chart patterns plotted and saved successfully for ASIANPAINT.NS_4H.csv.\n",
      "Data loaded successfully from D:\\AlgoT\\yfinanceData\\h4data\\AXISBANK.NS_4H.csv\n",
      "Head and shoulders patterns found and annotated in the DataFrame for AXISBANK.NS_4H.csv.\n",
      "There are no `hs` patterns detected.\n",
      "There are no `hs` patterns detected.\n",
      "Chart patterns plotted and saved successfully for AXISBANK.NS_4H.csv.\n",
      "Data loaded successfully from D:\\AlgoT\\yfinanceData\\h4data\\BAJAJ-AUTO.NS_4H.csv\n",
      "Head and shoulders patterns found and annotated in the DataFrame for BAJAJ-AUTO.NS_4H.csv.\n",
      "There are no `hs` patterns detected.\n",
      "There are no `hs` patterns detected.\n",
      "Chart patterns plotted and saved successfully for BAJAJ-AUTO.NS_4H.csv.\n",
      "Data loaded successfully from D:\\AlgoT\\yfinanceData\\h4data\\BAJAJFINSV.NS_4H.csv\n",
      "Head and shoulders patterns found and annotated in the DataFrame for BAJAJFINSV.NS_4H.csv.\n",
      "There are no `hs` patterns detected.\n",
      "There are no `hs` patterns detected.\n",
      "Chart patterns plotted and saved successfully for BAJAJFINSV.NS_4H.csv.\n",
      "Data loaded successfully from D:\\AlgoT\\yfinanceData\\h4data\\BAJFINANCE.NS_4H.csv\n",
      "Head and shoulders patterns found and annotated in the DataFrame for BAJFINANCE.NS_4H.csv.\n",
      "There are no `hs` patterns detected.\n",
      "There are no `hs` patterns detected.\n",
      "Chart patterns plotted and saved successfully for BAJFINANCE.NS_4H.csv.\n",
      "Data loaded successfully from D:\\AlgoT\\yfinanceData\\h4data\\BHARTIARTL.NS_4H.csv\n",
      "Head and shoulders patterns found and annotated in the DataFrame for BHARTIARTL.NS_4H.csv.\n",
      "There are no `hs` patterns detected.\n",
      "There are no `hs` patterns detected.\n",
      "Chart patterns plotted and saved successfully for BHARTIARTL.NS_4H.csv.\n",
      "Data loaded successfully from D:\\AlgoT\\yfinanceData\\h4data\\BPCL.NS_4H.csv\n",
      "Head and shoulders patterns found and annotated in the DataFrame for BPCL.NS_4H.csv.\n",
      "There are no `hs` patterns detected.\n",
      "There are no `hs` patterns detected.\n",
      "Chart patterns plotted and saved successfully for BPCL.NS_4H.csv.\n",
      "Data loaded successfully from D:\\AlgoT\\yfinanceData\\h4data\\BRITANNIA.NS_4H.csv\n",
      "Head and shoulders patterns found and annotated in the DataFrame for BRITANNIA.NS_4H.csv.\n",
      "There are no `hs` patterns detected.\n",
      "There are no `hs` patterns detected.\n",
      "Chart patterns plotted and saved successfully for BRITANNIA.NS_4H.csv.\n",
      "Data loaded successfully from D:\\AlgoT\\yfinanceData\\h4data\\CIPLA.NS_4H.csv\n",
      "Head and shoulders patterns found and annotated in the DataFrame for CIPLA.NS_4H.csv.\n",
      "There are no `hs` patterns detected.\n",
      "There are no `hs` patterns detected.\n",
      "Chart patterns plotted and saved successfully for CIPLA.NS_4H.csv.\n",
      "Data loaded successfully from D:\\AlgoT\\yfinanceData\\h4data\\COALINDIA.NS_4H.csv\n",
      "Head and shoulders patterns found and annotated in the DataFrame for COALINDIA.NS_4H.csv.\n",
      "There are no `hs` patterns detected.\n",
      "There are no `hs` patterns detected.\n",
      "Chart patterns plotted and saved successfully for COALINDIA.NS_4H.csv.\n",
      "Data loaded successfully from D:\\AlgoT\\yfinanceData\\h4data\\DIVISLAB.NS_4H.csv\n",
      "Head and shoulders patterns found and annotated in the DataFrame for DIVISLAB.NS_4H.csv.\n",
      "There are no `hs` patterns detected.\n",
      "There are no `hs` patterns detected.\n",
      "Chart patterns plotted and saved successfully for DIVISLAB.NS_4H.csv.\n",
      "Data loaded successfully from D:\\AlgoT\\yfinanceData\\h4data\\DRREDDY.NS_4H.csv\n",
      "Head and shoulders patterns found and annotated in the DataFrame for DRREDDY.NS_4H.csv.\n",
      "There are no `hs` patterns detected.\n",
      "There are no `hs` patterns detected.\n",
      "Chart patterns plotted and saved successfully for DRREDDY.NS_4H.csv.\n",
      "Data loaded successfully from D:\\AlgoT\\yfinanceData\\h4data\\EICHERMOT.NS_4H.csv\n",
      "Head and shoulders patterns found and annotated in the DataFrame for EICHERMOT.NS_4H.csv.\n",
      "There are no `hs` patterns detected.\n",
      "There are no `hs` patterns detected.\n",
      "Chart patterns plotted and saved successfully for EICHERMOT.NS_4H.csv.\n",
      "Data loaded successfully from D:\\AlgoT\\yfinanceData\\h4data\\GRASIM.NS_4H.csv\n",
      "Head and shoulders patterns found and annotated in the DataFrame for GRASIM.NS_4H.csv.\n",
      "There are no `hs` patterns detected.\n",
      "There are no `hs` patterns detected.\n",
      "Chart patterns plotted and saved successfully for GRASIM.NS_4H.csv.\n",
      "Data loaded successfully from D:\\AlgoT\\yfinanceData\\h4data\\HCLTECH.NS_4H.csv\n",
      "Head and shoulders patterns found and annotated in the DataFrame for HCLTECH.NS_4H.csv.\n",
      "There are no `hs` patterns detected.\n",
      "There are no `hs` patterns detected.\n",
      "Chart patterns plotted and saved successfully for HCLTECH.NS_4H.csv.\n",
      "Data loaded successfully from D:\\AlgoT\\yfinanceData\\h4data\\HDFCBANK.NS_4H.csv\n",
      "Head and shoulders patterns found and annotated in the DataFrame for HDFCBANK.NS_4H.csv.\n",
      "There are no `hs` patterns detected.\n",
      "There are no `hs` patterns detected.\n",
      "Chart patterns plotted and saved successfully for HDFCBANK.NS_4H.csv.\n",
      "Data loaded successfully from D:\\AlgoT\\yfinanceData\\h4data\\HEROMOTOCO.NS_4H.csv\n",
      "Head and shoulders patterns found and annotated in the DataFrame for HEROMOTOCO.NS_4H.csv.\n",
      "There are no `hs` patterns detected.\n",
      "There are no `hs` patterns detected.\n",
      "Chart patterns plotted and saved successfully for HEROMOTOCO.NS_4H.csv.\n",
      "Data loaded successfully from D:\\AlgoT\\yfinanceData\\h4data\\HINDALCO.NS_4H.csv\n",
      "Head and shoulders patterns found and annotated in the DataFrame for HINDALCO.NS_4H.csv.\n",
      "There are no `hs` patterns detected.\n",
      "There are no `hs` patterns detected.\n",
      "Chart patterns plotted and saved successfully for HINDALCO.NS_4H.csv.\n",
      "Data loaded successfully from D:\\AlgoT\\yfinanceData\\h4data\\HINDUNILVR.NS_4H.csv\n",
      "Head and shoulders patterns found and annotated in the DataFrame for HINDUNILVR.NS_4H.csv.\n",
      "There are no `hs` patterns detected.\n",
      "There are no `hs` patterns detected.\n",
      "Chart patterns plotted and saved successfully for HINDUNILVR.NS_4H.csv.\n",
      "Data loaded successfully from D:\\AlgoT\\yfinanceData\\h4data\\ICICIBANK.NS_4H.csv\n",
      "Head and shoulders patterns found and annotated in the DataFrame for ICICIBANK.NS_4H.csv.\n",
      "There are no `hs` patterns detected.\n",
      "There are no `hs` patterns detected.\n",
      "Chart patterns plotted and saved successfully for ICICIBANK.NS_4H.csv.\n",
      "Data loaded successfully from D:\\AlgoT\\yfinanceData\\h4data\\INDUSINDBK.NS_4H.csv\n",
      "Head and shoulders patterns found and annotated in the DataFrame for INDUSINDBK.NS_4H.csv.\n",
      "There are no `hs` patterns detected.\n",
      "There are no `hs` patterns detected.\n",
      "Chart patterns plotted and saved successfully for INDUSINDBK.NS_4H.csv.\n",
      "Data loaded successfully from D:\\AlgoT\\yfinanceData\\h4data\\INFY.NS_4H.csv\n",
      "Head and shoulders patterns found and annotated in the DataFrame for INFY.NS_4H.csv.\n",
      "There are no `hs` patterns detected.\n",
      "There are no `hs` patterns detected.\n",
      "Chart patterns plotted and saved successfully for INFY.NS_4H.csv.\n",
      "Data loaded successfully from D:\\AlgoT\\yfinanceData\\h4data\\ITC.NS_4H.csv\n",
      "Head and shoulders patterns found and annotated in the DataFrame for ITC.NS_4H.csv.\n",
      "There are no `hs` patterns detected.\n",
      "There are no `hs` patterns detected.\n",
      "Chart patterns plotted and saved successfully for ITC.NS_4H.csv.\n",
      "Data loaded successfully from D:\\AlgoT\\yfinanceData\\h4data\\JSWSTEEL.NS_4H.csv\n",
      "Head and shoulders patterns found and annotated in the DataFrame for JSWSTEEL.NS_4H.csv.\n",
      "There are no `hs` patterns detected.\n",
      "There are no `hs` patterns detected.\n",
      "Chart patterns plotted and saved successfully for JSWSTEEL.NS_4H.csv.\n",
      "Data loaded successfully from D:\\AlgoT\\yfinanceData\\h4data\\KOTAKBANK.NS_4H.csv\n",
      "Head and shoulders patterns found and annotated in the DataFrame for KOTAKBANK.NS_4H.csv.\n",
      "There are no `hs` patterns detected.\n",
      "There are no `hs` patterns detected.\n",
      "Chart patterns plotted and saved successfully for KOTAKBANK.NS_4H.csv.\n",
      "Data loaded successfully from D:\\AlgoT\\yfinanceData\\h4data\\LT.NS_4H.csv\n",
      "Head and shoulders patterns found and annotated in the DataFrame for LT.NS_4H.csv.\n",
      "There are no `hs` patterns detected.\n",
      "There are no `hs` patterns detected.\n",
      "Chart patterns plotted and saved successfully for LT.NS_4H.csv.\n",
      "Data loaded successfully from D:\\AlgoT\\yfinanceData\\h4data\\M&M.NS_4H.csv\n",
      "Head and shoulders patterns found and annotated in the DataFrame for M&M.NS_4H.csv.\n",
      "There are no `hs` patterns detected.\n",
      "There are no `hs` patterns detected.\n",
      "Chart patterns plotted and saved successfully for M&M.NS_4H.csv.\n",
      "Data loaded successfully from D:\\AlgoT\\yfinanceData\\h4data\\MARUTI.NS_4H.csv\n",
      "Head and shoulders patterns found and annotated in the DataFrame for MARUTI.NS_4H.csv.\n",
      "There are no `hs` patterns detected.\n",
      "There are no `hs` patterns detected.\n",
      "Chart patterns plotted and saved successfully for MARUTI.NS_4H.csv.\n",
      "Data loaded successfully from D:\\AlgoT\\yfinanceData\\h4data\\NESTLEIND.NS_4H.csv\n",
      "Head and shoulders patterns found and annotated in the DataFrame for NESTLEIND.NS_4H.csv.\n",
      "There are no `hs` patterns detected.\n",
      "There are no `hs` patterns detected.\n",
      "Chart patterns plotted and saved successfully for NESTLEIND.NS_4H.csv.\n",
      "Data loaded successfully from D:\\AlgoT\\yfinanceData\\h4data\\NTPC.NS_4H.csv\n",
      "Head and shoulders patterns found and annotated in the DataFrame for NTPC.NS_4H.csv.\n",
      "There are no `hs` patterns detected.\n",
      "There are no `hs` patterns detected.\n",
      "Chart patterns plotted and saved successfully for NTPC.NS_4H.csv.\n",
      "Data loaded successfully from D:\\AlgoT\\yfinanceData\\h4data\\ONGC.NS_4H.csv\n",
      "Head and shoulders patterns found and annotated in the DataFrame for ONGC.NS_4H.csv.\n",
      "There are no `hs` patterns detected.\n",
      "There are no `hs` patterns detected.\n",
      "Chart patterns plotted and saved successfully for ONGC.NS_4H.csv.\n",
      "Data loaded successfully from D:\\AlgoT\\yfinanceData\\h4data\\POWERGRID.NS_4H.csv\n",
      "Head and shoulders patterns found and annotated in the DataFrame for POWERGRID.NS_4H.csv.\n",
      "There are no `hs` patterns detected.\n",
      "There are no `hs` patterns detected.\n",
      "Chart patterns plotted and saved successfully for POWERGRID.NS_4H.csv.\n",
      "Data loaded successfully from D:\\AlgoT\\yfinanceData\\h4data\\RELIANCE.NS_4H.csv\n",
      "Head and shoulders patterns found and annotated in the DataFrame for RELIANCE.NS_4H.csv.\n",
      "There are no `hs` patterns detected.\n",
      "There are no `hs` patterns detected.\n",
      "Chart patterns plotted and saved successfully for RELIANCE.NS_4H.csv.\n",
      "Data loaded successfully from D:\\AlgoT\\yfinanceData\\h4data\\SBILIFE.NS_4H.csv\n",
      "Head and shoulders patterns found and annotated in the DataFrame for SBILIFE.NS_4H.csv.\n",
      "There are no `hs` patterns detected.\n",
      "There are no `hs` patterns detected.\n",
      "Chart patterns plotted and saved successfully for SBILIFE.NS_4H.csv.\n",
      "Data loaded successfully from D:\\AlgoT\\yfinanceData\\h4data\\SBIN.NS_4H.csv\n",
      "Head and shoulders patterns found and annotated in the DataFrame for SBIN.NS_4H.csv.\n",
      "There are no `hs` patterns detected.\n",
      "There are no `hs` patterns detected.\n",
      "Chart patterns plotted and saved successfully for SBIN.NS_4H.csv.\n",
      "Data loaded successfully from D:\\AlgoT\\yfinanceData\\h4data\\SUNPHARMA.NS_4H.csv\n",
      "Head and shoulders patterns found and annotated in the DataFrame for SUNPHARMA.NS_4H.csv.\n",
      "There are no `hs` patterns detected.\n",
      "There are no `hs` patterns detected.\n",
      "Chart patterns plotted and saved successfully for SUNPHARMA.NS_4H.csv.\n",
      "Data loaded successfully from D:\\AlgoT\\yfinanceData\\h4data\\TATACONSUM.NS_4H.csv\n",
      "Head and shoulders patterns found and annotated in the DataFrame for TATACONSUM.NS_4H.csv.\n",
      "There are no `hs` patterns detected.\n",
      "There are no `hs` patterns detected.\n",
      "Chart patterns plotted and saved successfully for TATACONSUM.NS_4H.csv.\n",
      "Data loaded successfully from D:\\AlgoT\\yfinanceData\\h4data\\TATAMOTORS.NS_4H.csv\n",
      "Head and shoulders patterns found and annotated in the DataFrame for TATAMOTORS.NS_4H.csv.\n",
      "There are no `hs` patterns detected.\n",
      "There are no `hs` patterns detected.\n",
      "Chart patterns plotted and saved successfully for TATAMOTORS.NS_4H.csv.\n",
      "Data loaded successfully from D:\\AlgoT\\yfinanceData\\h4data\\TATASTEEL.NS_4H.csv\n",
      "Head and shoulders patterns found and annotated in the DataFrame for TATASTEEL.NS_4H.csv.\n",
      "There are no `hs` patterns detected.\n",
      "There are no `hs` patterns detected.\n",
      "Chart patterns plotted and saved successfully for TATASTEEL.NS_4H.csv.\n",
      "Data loaded successfully from D:\\AlgoT\\yfinanceData\\h4data\\TCS.NS_4H.csv\n",
      "Head and shoulders patterns found and annotated in the DataFrame for TCS.NS_4H.csv.\n",
      "There are no `hs` patterns detected.\n",
      "There are no `hs` patterns detected.\n",
      "Chart patterns plotted and saved successfully for TCS.NS_4H.csv.\n",
      "Data loaded successfully from D:\\AlgoT\\yfinanceData\\h4data\\TECHM.NS_4H.csv\n",
      "Head and shoulders patterns found and annotated in the DataFrame for TECHM.NS_4H.csv.\n",
      "There are no `hs` patterns detected.\n",
      "There are no `hs` patterns detected.\n",
      "Chart patterns plotted and saved successfully for TECHM.NS_4H.csv.\n",
      "Data loaded successfully from D:\\AlgoT\\yfinanceData\\h4data\\TITAN.NS_4H.csv\n",
      "Head and shoulders patterns found and annotated in the DataFrame for TITAN.NS_4H.csv.\n",
      "There are no `hs` patterns detected.\n",
      "There are no `hs` patterns detected.\n",
      "Chart patterns plotted and saved successfully for TITAN.NS_4H.csv.\n",
      "Data loaded successfully from D:\\AlgoT\\yfinanceData\\h4data\\ULTRACEMCO.NS_4H.csv\n",
      "Head and shoulders patterns found and annotated in the DataFrame for ULTRACEMCO.NS_4H.csv.\n",
      "There are no `hs` patterns detected.\n",
      "There are no `hs` patterns detected.\n",
      "Chart patterns plotted and saved successfully for ULTRACEMCO.NS_4H.csv.\n",
      "Data loaded successfully from D:\\AlgoT\\yfinanceData\\h4data\\UPL.NS_4H.csv\n",
      "Head and shoulders patterns found and annotated in the DataFrame for UPL.NS_4H.csv.\n",
      "There are no `hs` patterns detected.\n",
      "There are no `hs` patterns detected.\n",
      "Chart patterns plotted and saved successfully for UPL.NS_4H.csv.\n",
      "Data loaded successfully from D:\\AlgoT\\yfinanceData\\h4data\\WIPRO.NS_4H.csv\n",
      "Head and shoulders patterns found and annotated in the DataFrame for WIPRO.NS_4H.csv.\n",
      "There are no `hs` patterns detected.\n",
      "There are no `hs` patterns detected.\n",
      "Chart patterns plotted and saved successfully for WIPRO.NS_4H.csv.\n"
     ]
    }
   ],
   "source": [
    "import pandas as pd\n",
    "import os\n",
    "from chart_patterns.chart_patterns.head_and_shoulders import find_head_and_shoulders\n",
    "from chart_patterns.chart_patterns.plotting import display_chart_pattern\n",
    "\n",
    "# Specify the directory containing your CSV files\n",
    "directory_path = r\"D:\\AlgoT\\yfinanceData\\h4data\"\n",
    "\n",
    "# Loop through each file in the directory\n",
    "for filename in os.listdir(directory_path):\n",
    "    if filename.endswith(\".csv\"):\n",
    "        file_path = os.path.join(directory_path, filename)\n",
    "        try:\n",
    "            # Read in your OHLC data\n",
    "            ohlc = pd.read_csv(file_path)\n",
    "            ohlc.columns=['datetime', 'open', 'high', 'low', 'close', 'volume']\n",
    "            \n",
    "            print(f\"Data loaded successfully from {file_path}\")\n",
    "\n",
    "            # Check if the necessary columns exist in the dataframe\n",
    "            required_columns = ['open', 'high', 'low', 'close']\n",
    "            if not all(column in ohlc.columns for column in required_columns):\n",
    "                raise ValueError(f\"The CSV file {filename} must contain the following columns: {required_columns}\")\n",
    "\n",
    "            # Find the head and shoulders pattern\n",
    "            ohlc = find_head_and_shoulders(ohlc)\n",
    "            print(f\"Head and shoulders patterns found and annotated in the DataFrame for {filename}.\")\n",
    "            display_chart_pattern(ohlc, pattern=\"hs\")\n",
    "            # Plot the results\n",
    "            try:\n",
    "                display_chart_pattern(ohlc, pattern=\"hs\")  # If multiple patterns were found, then plots will be saved inside a folder named images/hs\n",
    "                print(f\"Chart patterns plotted and saved successfully for {filename}.\")\n",
    "            except Exception as e:\n",
    "                print(f\"An error occurred while plotting the chart patterns for {filename}: {e}\")\n",
    "                raise\n",
    "\n",
    "        except FileNotFoundError:\n",
    "            print(f\"File not found: {file_path}\")\n",
    "        except Exception as e:\n",
    "            print(f\"An error occurred with file {filename}: {e}\")\n",
    "\n"
   ]
  },
  {
   "cell_type": "code",
   "execution_count": null,
   "metadata": {},
   "outputs": [],
   "source": []
  }
 ],
 "metadata": {
  "kernelspec": {
   "display_name": ".venv",
   "language": "python",
   "name": "python3"
  },
  "language_info": {
   "codemirror_mode": {
    "name": "ipython",
    "version": 3
   },
   "file_extension": ".py",
   "mimetype": "text/x-python",
   "name": "python",
   "nbconvert_exporter": "python",
   "pygments_lexer": "ipython3",
   "version": "3.10.11"
  }
 },
 "nbformat": 4,
 "nbformat_minor": 2
}
